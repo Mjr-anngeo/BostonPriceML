{
 "cells": [
  {
   "cell_type": "markdown",
   "metadata": {
    "slideshow": {
     "slide_type": "slide"
    }
   },
   "source": [
    "# <font size=7> <font color = darkblue>\"Developed a Regression -Based Predictive Model for Housing Price Estimation\"¶"
   ]
  },
  {
   "cell_type": "markdown",
   "metadata": {},
   "source": [
    "---"
   ]
  },
  {
   "cell_type": "code",
   "execution_count": 1,
   "metadata": {},
   "outputs": [],
   "source": [
    "# IMPORTS dependencies to load the data and perform EDA\n",
    "import numpy as np\n",
    "import pandas as pd\n",
    "import matplotlib.pyplot as plt\n",
    "import seaborn as sns\n",
    "from IPython import display"
   ]
  },
  {
   "cell_type": "code",
   "execution_count": 2,
   "metadata": {},
   "outputs": [],
   "source": [
    "plt.rcParams['font.size']=12 # Running Configuration Parameters\n",
    "plt.rcParams['axes.grid']=True\n",
    "plt.rcParams['figure.figsize'] = (5,5)"
   ]
  },
  {
   "cell_type": "markdown",
   "metadata": {},
   "source": [
    "---"
   ]
  },
  {
   "cell_type": "code",
   "execution_count": 3,
   "metadata": {},
   "outputs": [
    {
     "data": {
      "text/html": [
       "<div>\n",
       "<style scoped>\n",
       "    .dataframe tbody tr th:only-of-type {\n",
       "        vertical-align: middle;\n",
       "    }\n",
       "\n",
       "    .dataframe tbody tr th {\n",
       "        vertical-align: top;\n",
       "    }\n",
       "\n",
       "    .dataframe thead th {\n",
       "        text-align: right;\n",
       "    }\n",
       "</style>\n",
       "<table border=\"1\" class=\"dataframe\">\n",
       "  <thead>\n",
       "    <tr style=\"text-align: right;\">\n",
       "      <th></th>\n",
       "      <th>crime_rate</th>\n",
       "      <th>industrial_perc</th>\n",
       "      <th>close_to_charles_river</th>\n",
       "      <th>nitric_oxide</th>\n",
       "      <th>avg_num_rooms</th>\n",
       "      <th>age</th>\n",
       "      <th>dist_frm_employment_center</th>\n",
       "      <th>pupil_teacher_ratio</th>\n",
       "      <th>perc_low_income_group</th>\n",
       "      <th>avg_house_price</th>\n",
       "    </tr>\n",
       "  </thead>\n",
       "  <tbody>\n",
       "    <tr>\n",
       "      <th>0</th>\n",
       "      <td>0.00632</td>\n",
       "      <td>2.31</td>\n",
       "      <td>0</td>\n",
       "      <td>0.538</td>\n",
       "      <td>6.575</td>\n",
       "      <td>65.2</td>\n",
       "      <td>4.0900</td>\n",
       "      <td>15.3</td>\n",
       "      <td>4.98</td>\n",
       "      <td>24.0</td>\n",
       "    </tr>\n",
       "    <tr>\n",
       "      <th>1</th>\n",
       "      <td>0.02731</td>\n",
       "      <td>7.07</td>\n",
       "      <td>0</td>\n",
       "      <td>0.469</td>\n",
       "      <td>6.421</td>\n",
       "      <td>78.9</td>\n",
       "      <td>4.9671</td>\n",
       "      <td>17.8</td>\n",
       "      <td>9.14</td>\n",
       "      <td>21.6</td>\n",
       "    </tr>\n",
       "    <tr>\n",
       "      <th>2</th>\n",
       "      <td>0.02729</td>\n",
       "      <td>7.07</td>\n",
       "      <td>0</td>\n",
       "      <td>0.469</td>\n",
       "      <td>7.185</td>\n",
       "      <td>61.1</td>\n",
       "      <td>4.9671</td>\n",
       "      <td>17.8</td>\n",
       "      <td>4.03</td>\n",
       "      <td>34.7</td>\n",
       "    </tr>\n",
       "    <tr>\n",
       "      <th>3</th>\n",
       "      <td>0.03237</td>\n",
       "      <td>2.18</td>\n",
       "      <td>0</td>\n",
       "      <td>0.458</td>\n",
       "      <td>6.998</td>\n",
       "      <td>45.8</td>\n",
       "      <td>6.0622</td>\n",
       "      <td>18.7</td>\n",
       "      <td>2.94</td>\n",
       "      <td>33.4</td>\n",
       "    </tr>\n",
       "    <tr>\n",
       "      <th>4</th>\n",
       "      <td>0.06905</td>\n",
       "      <td>2.18</td>\n",
       "      <td>0</td>\n",
       "      <td>0.458</td>\n",
       "      <td>7.147</td>\n",
       "      <td>54.2</td>\n",
       "      <td>6.0622</td>\n",
       "      <td>18.7</td>\n",
       "      <td>5.33</td>\n",
       "      <td>36.2</td>\n",
       "    </tr>\n",
       "  </tbody>\n",
       "</table>\n",
       "</div>"
      ],
      "text/plain": [
       "   crime_rate  industrial_perc  close_to_charles_river  nitric_oxide  \\\n",
       "0     0.00632             2.31                       0         0.538   \n",
       "1     0.02731             7.07                       0         0.469   \n",
       "2     0.02729             7.07                       0         0.469   \n",
       "3     0.03237             2.18                       0         0.458   \n",
       "4     0.06905             2.18                       0         0.458   \n",
       "\n",
       "   avg_num_rooms   age  dist_frm_employment_center  pupil_teacher_ratio  \\\n",
       "0          6.575  65.2                      4.0900                 15.3   \n",
       "1          6.421  78.9                      4.9671                 17.8   \n",
       "2          7.185  61.1                      4.9671                 17.8   \n",
       "3          6.998  45.8                      6.0622                 18.7   \n",
       "4          7.147  54.2                      6.0622                 18.7   \n",
       "\n",
       "   perc_low_income_group  avg_house_price  \n",
       "0                   4.98             24.0  \n",
       "1                   9.14             21.6  \n",
       "2                   4.03             34.7  \n",
       "3                   2.94             33.4  \n",
       "4                   5.33             36.2  "
      ]
     },
     "execution_count": 3,
     "metadata": {},
     "output_type": "execute_result"
    }
   ],
   "source": [
    "bos = pd.read_csv('BostonHousing.csv')\n",
    "bos.head()"
   ]
  },
  {
   "cell_type": "code",
   "execution_count": 4,
   "metadata": {},
   "outputs": [
    {
     "name": "stdout",
     "output_type": "stream",
     "text": [
      "<class 'pandas.core.frame.DataFrame'>\n",
      "RangeIndex: 506 entries, 0 to 505\n",
      "Data columns (total 10 columns):\n",
      " #   Column                      Non-Null Count  Dtype  \n",
      "---  ------                      --------------  -----  \n",
      " 0   crime_rate                  506 non-null    float64\n",
      " 1   industrial_perc             506 non-null    float64\n",
      " 2   close_to_charles_river      506 non-null    int64  \n",
      " 3   nitric_oxide                506 non-null    float64\n",
      " 4   avg_num_rooms               506 non-null    float64\n",
      " 5   age                         506 non-null    float64\n",
      " 6   dist_frm_employment_center  506 non-null    float64\n",
      " 7   pupil_teacher_ratio         506 non-null    float64\n",
      " 8   perc_low_income_group       506 non-null    float64\n",
      " 9   avg_house_price             506 non-null    float64\n",
      "dtypes: float64(9), int64(1)\n",
      "memory usage: 39.7 KB\n"
     ]
    }
   ],
   "source": [
    "bos.info()"
   ]
  },
  {
   "cell_type": "code",
   "execution_count": 5,
   "metadata": {},
   "outputs": [
    {
     "data": {
      "text/plain": [
       "crime_rate                    0\n",
       "industrial_perc               0\n",
       "close_to_charles_river        0\n",
       "nitric_oxide                  0\n",
       "avg_num_rooms                 0\n",
       "age                           0\n",
       "dist_frm_employment_center    0\n",
       "pupil_teacher_ratio           0\n",
       "perc_low_income_group         0\n",
       "avg_house_price               0\n",
       "dtype: int64"
      ]
     },
     "execution_count": 5,
     "metadata": {},
     "output_type": "execute_result"
    }
   ],
   "source": [
    "bos.isnull().sum()"
   ]
  },
  {
   "cell_type": "code",
   "execution_count": 6,
   "metadata": {},
   "outputs": [
    {
     "data": {
      "text/plain": [
       "0"
      ]
     },
     "execution_count": 6,
     "metadata": {},
     "output_type": "execute_result"
    }
   ],
   "source": [
    "bos.duplicated().sum()"
   ]
  },
  {
   "cell_type": "markdown",
   "metadata": {},
   "source": [
    "### From the above information we can observe that,\n",
    "#### (a) There are 506 Rows\n",
    "#### (b) 10 columns\n",
    "#### (c) All 10 columns are number columns\n",
    "#### (d) There is no null values present in the data set\n",
    "#### (e) There is no duplicate records found"
   ]
  },
  {
   "cell_type": "markdown",
   "metadata": {},
   "source": [
    "### The data set seems to be cleaned to perform EDA"
   ]
  },
  {
   "cell_type": "code",
   "execution_count": 7,
   "metadata": {},
   "outputs": [
    {
     "data": {
      "text/html": [
       "<div>\n",
       "<style scoped>\n",
       "    .dataframe tbody tr th:only-of-type {\n",
       "        vertical-align: middle;\n",
       "    }\n",
       "\n",
       "    .dataframe tbody tr th {\n",
       "        vertical-align: top;\n",
       "    }\n",
       "\n",
       "    .dataframe thead th {\n",
       "        text-align: right;\n",
       "    }\n",
       "</style>\n",
       "<table border=\"1\" class=\"dataframe\">\n",
       "  <thead>\n",
       "    <tr style=\"text-align: right;\">\n",
       "      <th></th>\n",
       "      <th>count</th>\n",
       "      <th>mean</th>\n",
       "      <th>std</th>\n",
       "      <th>min</th>\n",
       "      <th>25%</th>\n",
       "      <th>50%</th>\n",
       "      <th>75%</th>\n",
       "      <th>max</th>\n",
       "    </tr>\n",
       "  </thead>\n",
       "  <tbody>\n",
       "    <tr>\n",
       "      <th>crime_rate</th>\n",
       "      <td>506.0</td>\n",
       "      <td>3.61</td>\n",
       "      <td>8.60</td>\n",
       "      <td>0.01</td>\n",
       "      <td>0.08</td>\n",
       "      <td>0.26</td>\n",
       "      <td>3.68</td>\n",
       "      <td>88.98</td>\n",
       "    </tr>\n",
       "    <tr>\n",
       "      <th>industrial_perc</th>\n",
       "      <td>506.0</td>\n",
       "      <td>11.14</td>\n",
       "      <td>6.86</td>\n",
       "      <td>0.46</td>\n",
       "      <td>5.19</td>\n",
       "      <td>9.69</td>\n",
       "      <td>18.10</td>\n",
       "      <td>27.74</td>\n",
       "    </tr>\n",
       "    <tr>\n",
       "      <th>close_to_charles_river</th>\n",
       "      <td>506.0</td>\n",
       "      <td>0.07</td>\n",
       "      <td>0.25</td>\n",
       "      <td>0.00</td>\n",
       "      <td>0.00</td>\n",
       "      <td>0.00</td>\n",
       "      <td>0.00</td>\n",
       "      <td>1.00</td>\n",
       "    </tr>\n",
       "    <tr>\n",
       "      <th>nitric_oxide</th>\n",
       "      <td>506.0</td>\n",
       "      <td>0.55</td>\n",
       "      <td>0.12</td>\n",
       "      <td>0.38</td>\n",
       "      <td>0.45</td>\n",
       "      <td>0.54</td>\n",
       "      <td>0.62</td>\n",
       "      <td>0.87</td>\n",
       "    </tr>\n",
       "    <tr>\n",
       "      <th>avg_num_rooms</th>\n",
       "      <td>506.0</td>\n",
       "      <td>6.28</td>\n",
       "      <td>0.70</td>\n",
       "      <td>3.56</td>\n",
       "      <td>5.89</td>\n",
       "      <td>6.21</td>\n",
       "      <td>6.62</td>\n",
       "      <td>8.78</td>\n",
       "    </tr>\n",
       "    <tr>\n",
       "      <th>age</th>\n",
       "      <td>506.0</td>\n",
       "      <td>68.57</td>\n",
       "      <td>28.15</td>\n",
       "      <td>2.90</td>\n",
       "      <td>45.02</td>\n",
       "      <td>77.50</td>\n",
       "      <td>94.07</td>\n",
       "      <td>100.00</td>\n",
       "    </tr>\n",
       "    <tr>\n",
       "      <th>dist_frm_employment_center</th>\n",
       "      <td>506.0</td>\n",
       "      <td>3.80</td>\n",
       "      <td>2.11</td>\n",
       "      <td>1.13</td>\n",
       "      <td>2.10</td>\n",
       "      <td>3.21</td>\n",
       "      <td>5.19</td>\n",
       "      <td>12.13</td>\n",
       "    </tr>\n",
       "    <tr>\n",
       "      <th>pupil_teacher_ratio</th>\n",
       "      <td>506.0</td>\n",
       "      <td>18.46</td>\n",
       "      <td>2.16</td>\n",
       "      <td>12.60</td>\n",
       "      <td>17.40</td>\n",
       "      <td>19.05</td>\n",
       "      <td>20.20</td>\n",
       "      <td>22.00</td>\n",
       "    </tr>\n",
       "    <tr>\n",
       "      <th>perc_low_income_group</th>\n",
       "      <td>506.0</td>\n",
       "      <td>12.65</td>\n",
       "      <td>7.14</td>\n",
       "      <td>1.73</td>\n",
       "      <td>6.95</td>\n",
       "      <td>11.36</td>\n",
       "      <td>16.96</td>\n",
       "      <td>37.97</td>\n",
       "    </tr>\n",
       "    <tr>\n",
       "      <th>avg_house_price</th>\n",
       "      <td>506.0</td>\n",
       "      <td>22.53</td>\n",
       "      <td>9.20</td>\n",
       "      <td>5.00</td>\n",
       "      <td>17.02</td>\n",
       "      <td>21.20</td>\n",
       "      <td>25.00</td>\n",
       "      <td>50.00</td>\n",
       "    </tr>\n",
       "  </tbody>\n",
       "</table>\n",
       "</div>"
      ],
      "text/plain": [
       "                            count   mean    std    min    25%    50%    75%  \\\n",
       "crime_rate                  506.0   3.61   8.60   0.01   0.08   0.26   3.68   \n",
       "industrial_perc             506.0  11.14   6.86   0.46   5.19   9.69  18.10   \n",
       "close_to_charles_river      506.0   0.07   0.25   0.00   0.00   0.00   0.00   \n",
       "nitric_oxide                506.0   0.55   0.12   0.38   0.45   0.54   0.62   \n",
       "avg_num_rooms               506.0   6.28   0.70   3.56   5.89   6.21   6.62   \n",
       "age                         506.0  68.57  28.15   2.90  45.02  77.50  94.07   \n",
       "dist_frm_employment_center  506.0   3.80   2.11   1.13   2.10   3.21   5.19   \n",
       "pupil_teacher_ratio         506.0  18.46   2.16  12.60  17.40  19.05  20.20   \n",
       "perc_low_income_group       506.0  12.65   7.14   1.73   6.95  11.36  16.96   \n",
       "avg_house_price             506.0  22.53   9.20   5.00  17.02  21.20  25.00   \n",
       "\n",
       "                               max  \n",
       "crime_rate                   88.98  \n",
       "industrial_perc              27.74  \n",
       "close_to_charles_river        1.00  \n",
       "nitric_oxide                  0.87  \n",
       "avg_num_rooms                 8.78  \n",
       "age                         100.00  \n",
       "dist_frm_employment_center   12.13  \n",
       "pupil_teacher_ratio          22.00  \n",
       "perc_low_income_group        37.97  \n",
       "avg_house_price              50.00  "
      ]
     },
     "execution_count": 7,
     "metadata": {},
     "output_type": "execute_result"
    }
   ],
   "source": [
    "round(bos.describe().T,2)"
   ]
  },
  {
   "cell_type": "code",
   "execution_count": 8,
   "metadata": {},
   "outputs": [
    {
     "data": {
      "text/plain": [
       "Index(['crime_rate', 'industrial_perc', 'close_to_charles_river',\n",
       "       'nitric_oxide', 'avg_num_rooms', 'age', 'dist_frm_employment_center',\n",
       "       'pupil_teacher_ratio', 'perc_low_income_group', 'avg_house_price'],\n",
       "      dtype='object')"
      ]
     },
     "execution_count": 8,
     "metadata": {},
     "output_type": "execute_result"
    }
   ],
   "source": [
    "bos.columns"
   ]
  },
  {
   "cell_type": "code",
   "execution_count": 9,
   "metadata": {},
   "outputs": [
    {
     "data": {
      "text/plain": [
       "<AxesSubplot:xlabel='avg_house_price'>"
      ]
     },
     "execution_count": 9,
     "metadata": {},
     "output_type": "execute_result"
    },
    {
     "data": {
      "image/png": "[encoded data removed]",
      "text/plain": [
       "<Figure size 576x360 with 1 Axes>"
      ]
     },
     "metadata": {
      "needs_background": "light"
     },
     "output_type": "display_data"
    }
   ],
   "source": [
    "plt.figure(figsize=(8,5))\n",
    "sns.boxplot(x='avg_house_price', data=bos)"
   ]
  },
  {
   "cell_type": "code",
   "execution_count": 10,
   "metadata": {},
   "outputs": [
    {
     "data": {
      "text/plain": [
       "<seaborn.axisgrid.FacetGrid at 0x202518e51c0>"
      ]
     },
     "execution_count": 10,
     "metadata": {},
     "output_type": "execute_result"
    },
    {
     "data": {
      "image/png": "[encoded data removed]",
      "text/plain": [
       "<Figure size 360x360 with 1 Axes>"
      ]
     },
     "metadata": {
      "needs_background": "light"
     },
     "output_type": "display_data"
    }
   ],
   "source": [
    "sns.displot(x='avg_house_price', data=bos, kde = True)"
   ]
  },
  {
   "cell_type": "markdown",
   "metadata": {},
   "source": [
    "### Check correlation between Target Variable - \"avg_house_price\" with independent varibles"
   ]
  },
  {
   "cell_type": "code",
   "execution_count": 11,
   "metadata": {},
   "outputs": [
    {
     "data": {
      "text/plain": [
       "crime_rate                   -0.388305\n",
       "industrial_perc              -0.483725\n",
       "close_to_charles_river        0.175260\n",
       "nitric_oxide                 -0.427321\n",
       "avg_num_rooms                 0.695360\n",
       "age                          -0.376955\n",
       "dist_frm_employment_center    0.249929\n",
       "pupil_teacher_ratio          -0.507787\n",
       "perc_low_income_group        -0.737663\n",
       "avg_house_price               1.000000\n",
       "dtype: float64"
      ]
     },
     "execution_count": 11,
     "metadata": {},
     "output_type": "execute_result"
    }
   ],
   "source": [
    "bos.corrwith(bos.avg_house_price)"
   ]
  },
  {
   "cell_type": "markdown",
   "metadata": {},
   "source": [
    "### From the above figures we can conclude that\n",
    "#### (a) The variable \"perc_low_income_group\" having strong correlation with target variable i.e., -0.737, which is negetive correlation.\n",
    "#### (b) The variable \"avg_num_rooms\" having 2nd highest correlation with target variable i.e., 0.695, which is positive correlation.\n",
    "\n",
    "### With this we can conclude that, if high value in per_low_income_group will descreses the avg_house_price and if avg_num_rooms increase will leade to increase in avg_house_price value."
   ]
  },
  {
   "cell_type": "code",
   "execution_count": 12,
   "metadata": {},
   "outputs": [
    {
     "data": {
      "image/png": "[encoded data removed]",
      "text/plain": [
       "<Figure size 1080x576 with 2 Axes>"
      ]
     },
     "metadata": {
      "needs_background": "light"
     },
     "output_type": "display_data"
    }
   ],
   "source": [
    "plt.figure(figsize=(15,8))\n",
    "sns.heatmap(bos.corr(), annot=True, mask=np.triu(bos.corr(),1), cmap = 'RdYlGn')\n",
    "plt.show()"
   ]
  },
  {
   "cell_type": "markdown",
   "metadata": {},
   "source": [
    "### From the above heat map we can note that, there is a correlation between independent variables and which may lead to multicollinearity.\n"
   ]
  },
  {
   "cell_type": "markdown",
   "metadata": {},
   "source": [
    "---"
   ]
  },
  {
   "cell_type": "markdown",
   "metadata": {},
   "source": [
    "### Model Building\n",
    "#### Since the target variable \"avg_house_price\" is contineous numeric value we will chose Linear regression supervised machine learning model."
   ]
  },
  {
   "cell_type": "markdown",
   "metadata": {},
   "source": [
    "### Multi Linear Regression which will work on the following algorithmn\n",
    "# \\begin{equation*}y =   m_1x_1 + m_2x_2 + m_3x_3 +.... + m_nx_n + c + error \\end{equation*}"
   ]
  },
  {
   "cell_type": "markdown",
   "metadata": {},
   "source": [
    "### Linear Regreesion Model on Descriptive Approach"
   ]
  },
  {
   "cell_type": "code",
   "execution_count": 13,
   "metadata": {},
   "outputs": [],
   "source": [
    "# IMPORT Dependencies for model building\n",
    "import statsmodels.formula.api as SM"
   ]
  },
  {
   "cell_type": "markdown",
   "metadata": {},
   "source": [
    "### Feature Engineering"
   ]
  },
  {
   "cell_type": "markdown",
   "metadata": {},
   "source": [
    "### Check for Multicollinearity using VIF formula"
   ]
  },
  {
   "cell_type": "code",
   "execution_count": 14,
   "metadata": {},
   "outputs": [],
   "source": [
    "def vif_cal(input_data):\n",
    "    '''\n",
    "    input_data: Dataframe of features\n",
    "    '''\n",
    "    x_vars = input_data\n",
    "    xvar_names = input_data.columns\n",
    "    for i in range(len(xvar_names)):\n",
    "        y = x_vars[xvar_names[i]] \n",
    "        x = x_vars[xvar_names.drop(xvar_names[i])]\n",
    "        rsq = SM.ols(formula=\"y~x\", data=x_vars).fit().rsquared  \n",
    "        vif = round(1/(1-rsq), 2)\n",
    "        print (xvar_names[i], \" VIF = \" , vif)"
   ]
  },
  {
   "cell_type": "code",
   "execution_count": 15,
   "metadata": {},
   "outputs": [
    {
     "name": "stdout",
     "output_type": "stream",
     "text": [
      "crime_rate  VIF =  1.38\n",
      "industrial_perc  VIF =  3.16\n",
      "close_to_charles_river  VIF =  1.05\n",
      "nitric_oxide  VIF =  3.83\n",
      "avg_num_rooms  VIF =  1.79\n",
      "age  VIF =  3.01\n",
      "dist_frm_employment_center  VIF =  3.25\n",
      "pupil_teacher_ratio  VIF =  1.38\n",
      "perc_low_income_group  VIF =  2.85\n"
     ]
    }
   ],
   "source": [
    "vif_cal(input_data= bos.drop('avg_house_price', axis=1))"
   ]
  },
  {
   "cell_type": "markdown",
   "metadata": {},
   "source": [
    "### After implimenting VIF technique to check multicollinearity all values of the independent variables are below 5, hence, we may conclude that there may not be multicollinearity between independent varibles."
   ]
  },
  {
   "cell_type": "markdown",
   "metadata": {},
   "source": [
    "#### Model1 with all variables"
   ]
  },
  {
   "cell_type": "code",
   "execution_count": 16,
   "metadata": {},
   "outputs": [],
   "source": [
    "formula_MLR1 ='avg_house_price~crime_rate+industrial_perc+close_to_charles_river+nitric_oxide+avg_num_rooms+age+dist_frm_employment_center+pupil_teacher_ratio+perc_low_income_group'"
   ]
  },
  {
   "cell_type": "code",
   "execution_count": 17,
   "metadata": {},
   "outputs": [
    {
     "data": {
      "text/html": [
       "<table class=\"simpletable\">\n",
       "<caption>OLS Regression Results</caption>\n",
       "<tr>\n",
       "  <th>Dep. Variable:</th>     <td>avg_house_price</td> <th>  R-squared:         </th> <td>   0.719</td> \n",
       "</tr>\n",
       "<tr>\n",
       "  <th>Model:</th>                   <td>OLS</td>       <th>  Adj. R-squared:    </th> <td>   0.714</td> \n",
       "</tr>\n",
       "<tr>\n",
       "  <th>Method:</th>             <td>Least Squares</td>  <th>  F-statistic:       </th> <td>   141.1</td> \n",
       "</tr>\n",
       "<tr>\n",
       "  <th>Date:</th>             <td>Thu, 13 Mar 2025</td> <th>  Prob (F-statistic):</th> <td>1.09e-130</td>\n",
       "</tr>\n",
       "<tr>\n",
       "  <th>Time:</th>                 <td>08:16:21</td>     <th>  Log-Likelihood:    </th> <td> -1518.9</td> \n",
       "</tr>\n",
       "<tr>\n",
       "  <th>No. Observations:</th>      <td>   506</td>      <th>  AIC:               </th> <td>   3058.</td> \n",
       "</tr>\n",
       "<tr>\n",
       "  <th>Df Residuals:</th>          <td>   496</td>      <th>  BIC:               </th> <td>   3100.</td> \n",
       "</tr>\n",
       "<tr>\n",
       "  <th>Df Model:</th>              <td>     9</td>      <th>                     </th>     <td> </td>    \n",
       "</tr>\n",
       "<tr>\n",
       "  <th>Covariance Type:</th>      <td>nonrobust</td>    <th>                     </th>     <td> </td>    \n",
       "</tr>\n",
       "</table>\n",
       "<table class=\"simpletable\">\n",
       "<tr>\n",
       "               <td></td>                 <th>coef</th>     <th>std err</th>      <th>t</th>      <th>P>|t|</th>  <th>[0.025</th>    <th>0.975]</th>  \n",
       "</tr>\n",
       "<tr>\n",
       "  <th>Intercept</th>                  <td>   34.7144</td> <td>    4.633</td> <td>    7.492</td> <td> 0.000</td> <td>   25.611</td> <td>   43.818</td>\n",
       "</tr>\n",
       "<tr>\n",
       "  <th>crime_rate</th>                 <td>   -0.0659</td> <td>    0.030</td> <td>   -2.203</td> <td> 0.028</td> <td>   -0.125</td> <td>   -0.007</td>\n",
       "</tr>\n",
       "<tr>\n",
       "  <th>industrial_perc</th>            <td>   -0.0568</td> <td>    0.057</td> <td>   -1.000</td> <td> 0.318</td> <td>   -0.168</td> <td>    0.055</td>\n",
       "</tr>\n",
       "<tr>\n",
       "  <th>close_to_charles_river</th>     <td>    3.1947</td> <td>    0.885</td> <td>    3.610</td> <td> 0.000</td> <td>    1.456</td> <td>    4.933</td>\n",
       "</tr>\n",
       "<tr>\n",
       "  <th>nitric_oxide</th>               <td>  -15.8670</td> <td>    3.695</td> <td>   -4.294</td> <td> 0.000</td> <td>  -23.126</td> <td>   -8.608</td>\n",
       "</tr>\n",
       "<tr>\n",
       "  <th>avg_num_rooms</th>              <td>    4.1799</td> <td>    0.416</td> <td>   10.036</td> <td> 0.000</td> <td>    3.362</td> <td>    4.998</td>\n",
       "</tr>\n",
       "<tr>\n",
       "  <th>age</th>                        <td>   -0.0064</td> <td>    0.013</td> <td>   -0.475</td> <td> 0.635</td> <td>   -0.033</td> <td>    0.020</td>\n",
       "</tr>\n",
       "<tr>\n",
       "  <th>dist_frm_employment_center</th> <td>   -1.2439</td> <td>    0.187</td> <td>   -6.637</td> <td> 0.000</td> <td>   -1.612</td> <td>   -0.876</td>\n",
       "</tr>\n",
       "<tr>\n",
       "  <th>pupil_teacher_ratio</th>        <td>   -0.9269</td> <td>    0.119</td> <td>   -7.816</td> <td> 0.000</td> <td>   -1.160</td> <td>   -0.694</td>\n",
       "</tr>\n",
       "<tr>\n",
       "  <th>perc_low_income_group</th>      <td>   -0.5322</td> <td>    0.052</td> <td>  -10.289</td> <td> 0.000</td> <td>   -0.634</td> <td>   -0.431</td>\n",
       "</tr>\n",
       "</table>\n",
       "<table class=\"simpletable\">\n",
       "<tr>\n",
       "  <th>Omnibus:</th>       <td>192.569</td> <th>  Durbin-Watson:     </th> <td>   1.030</td> \n",
       "</tr>\n",
       "<tr>\n",
       "  <th>Prob(Omnibus):</th> <td> 0.000</td>  <th>  Jarque-Bera (JB):  </th> <td> 936.024</td> \n",
       "</tr>\n",
       "<tr>\n",
       "  <th>Skew:</th>          <td> 1.623</td>  <th>  Prob(JB):          </th> <td>5.56e-204</td>\n",
       "</tr>\n",
       "<tr>\n",
       "  <th>Kurtosis:</th>      <td> 8.819</td>  <th>  Cond. No.          </th> <td>1.87e+03</td> \n",
       "</tr>\n",
       "</table><br/><br/>Notes:<br/>[1] Standard Errors assume that the covariance matrix of the errors is correctly specified.<br/>[2] The condition number is large, 1.87e+03. This might indicate that there are<br/>strong multicollinearity or other numerical problems."
      ],
      "text/latex": [
       "\\begin{center}\n",
       "\\begin{tabular}{lclc}\n",
       "\\toprule\n",
       "\\textbf{Dep. Variable:}                & avg\\_house\\_price & \\textbf{  R-squared:         } &     0.719   \\\\\n",
       "\\textbf{Model:}                        &        OLS        & \\textbf{  Adj. R-squared:    } &     0.714   \\\\\n",
       "\\textbf{Method:}                       &   Least Squares   & \\textbf{  F-statistic:       } &     141.1   \\\\\n",
       "\\textbf{Date:}                         &  Thu, 13 Mar 2025 & \\textbf{  Prob (F-statistic):} & 1.09e-130   \\\\\n",
       "\\textbf{Time:}                         &      08:16:21     & \\textbf{  Log-Likelihood:    } &   -1518.9   \\\\\n",
       "\\textbf{No. Observations:}             &          506      & \\textbf{  AIC:               } &     3058.   \\\\\n",
       "\\textbf{Df Residuals:}                 &          496      & \\textbf{  BIC:               } &     3100.   \\\\\n",
       "\\textbf{Df Model:}                     &            9      & \\textbf{                     } &             \\\\\n",
       "\\textbf{Covariance Type:}              &     nonrobust     & \\textbf{                     } &             \\\\\n",
       "\\bottomrule\n",
       "\\end{tabular}\n",
       "\\begin{tabular}{lcccccc}\n",
       "                                       & \\textbf{coef} & \\textbf{std err} & \\textbf{t} & \\textbf{P$> |$t$|$} & \\textbf{[0.025} & \\textbf{0.975]}  \\\\\n",
       "\\midrule\n",
       "\\textbf{Intercept}                     &      34.7144  &        4.633     &     7.492  &         0.000        &       25.611    &       43.818     \\\\\n",
       "\\textbf{crime\\_rate}                   &      -0.0659  &        0.030     &    -2.203  &         0.028        &       -0.125    &       -0.007     \\\\\n",
       "\\textbf{industrial\\_perc}              &      -0.0568  &        0.057     &    -1.000  &         0.318        &       -0.168    &        0.055     \\\\\n",
       "\\textbf{close\\_to\\_charles\\_river}     &       3.1947  &        0.885     &     3.610  &         0.000        &        1.456    &        4.933     \\\\\n",
       "\\textbf{nitric\\_oxide}                 &     -15.8670  &        3.695     &    -4.294  &         0.000        &      -23.126    &       -8.608     \\\\\n",
       "\\textbf{avg\\_num\\_rooms}               &       4.1799  &        0.416     &    10.036  &         0.000        &        3.362    &        4.998     \\\\\n",
       "\\textbf{age}                           &      -0.0064  &        0.013     &    -0.475  &         0.635        &       -0.033    &        0.020     \\\\\n",
       "\\textbf{dist\\_frm\\_employment\\_center} &      -1.2439  &        0.187     &    -6.637  &         0.000        &       -1.612    &       -0.876     \\\\\n",
       "\\textbf{pupil\\_teacher\\_ratio}         &      -0.9269  &        0.119     &    -7.816  &         0.000        &       -1.160    &       -0.694     \\\\\n",
       "\\textbf{perc\\_low\\_income\\_group}      &      -0.5322  &        0.052     &   -10.289  &         0.000        &       -0.634    &       -0.431     \\\\\n",
       "\\bottomrule\n",
       "\\end{tabular}\n",
       "\\begin{tabular}{lclc}\n",
       "\\textbf{Omnibus:}       & 192.569 & \\textbf{  Durbin-Watson:     } &     1.030  \\\\\n",
       "\\textbf{Prob(Omnibus):} &   0.000 & \\textbf{  Jarque-Bera (JB):  } &   936.024  \\\\\n",
       "\\textbf{Skew:}          &   1.623 & \\textbf{  Prob(JB):          } & 5.56e-204  \\\\\n",
       "\\textbf{Kurtosis:}      &   8.819 & \\textbf{  Cond. No.          } &  1.87e+03  \\\\\n",
       "\\bottomrule\n",
       "\\end{tabular}\n",
       "%\\caption{OLS Regression Results}\n",
       "\\end{center}\n",
       "\n",
       "Notes: \\newline\n",
       " [1] Standard Errors assume that the covariance matrix of the errors is correctly specified. \\newline\n",
       " [2] The condition number is large, 1.87e+03. This might indicate that there are \\newline\n",
       " strong multicollinearity or other numerical problems."
      ],
      "text/plain": [
       "<class 'statsmodels.iolib.summary.Summary'>\n",
       "\"\"\"\n",
       "                            OLS Regression Results                            \n",
       "==============================================================================\n",
       "Dep. Variable:        avg_house_price   R-squared:                       0.719\n",
       "Model:                            OLS   Adj. R-squared:                  0.714\n",
       "Method:                 Least Squares   F-statistic:                     141.1\n",
       "Date:                Thu, 13 Mar 2025   Prob (F-statistic):          1.09e-130\n",
       "Time:                        08:16:21   Log-Likelihood:                -1518.9\n",
       "No. Observations:                 506   AIC:                             3058.\n",
       "Df Residuals:                     496   BIC:                             3100.\n",
       "Df Model:                           9                                         \n",
       "Covariance Type:            nonrobust                                         \n",
       "==============================================================================================\n",
       "                                 coef    std err          t      P>|t|      [0.025      0.975]\n",
       "----------------------------------------------------------------------------------------------\n",
       "Intercept                     34.7144      4.633      7.492      0.000      25.611      43.818\n",
       "crime_rate                    -0.0659      0.030     -2.203      0.028      -0.125      -0.007\n",
       "industrial_perc               -0.0568      0.057     -1.000      0.318      -0.168       0.055\n",
       "close_to_charles_river         3.1947      0.885      3.610      0.000       1.456       4.933\n",
       "nitric_oxide                 -15.8670      3.695     -4.294      0.000     -23.126      -8.608\n",
       "avg_num_rooms                  4.1799      0.416     10.036      0.000       3.362       4.998\n",
       "age                           -0.0064      0.013     -0.475      0.635      -0.033       0.020\n",
       "dist_frm_employment_center    -1.2439      0.187     -6.637      0.000      -1.612      -0.876\n",
       "pupil_teacher_ratio           -0.9269      0.119     -7.816      0.000      -1.160      -0.694\n",
       "perc_low_income_group         -0.5322      0.052    -10.289      0.000      -0.634      -0.431\n",
       "==============================================================================\n",
       "Omnibus:                      192.569   Durbin-Watson:                   1.030\n",
       "Prob(Omnibus):                  0.000   Jarque-Bera (JB):              936.024\n",
       "Skew:                           1.623   Prob(JB):                    5.56e-204\n",
       "Kurtosis:                       8.819   Cond. No.                     1.87e+03\n",
       "==============================================================================\n",
       "\n",
       "Notes:\n",
       "[1] Standard Errors assume that the covariance matrix of the errors is correctly specified.\n",
       "[2] The condition number is large, 1.87e+03. This might indicate that there are\n",
       "strong multicollinearity or other numerical problems.\n",
       "\"\"\""
      ]
     },
     "execution_count": 17,
     "metadata": {},
     "output_type": "execute_result"
    }
   ],
   "source": [
    "model1 = SM.ols(formula = formula_MLR1, data=bos).fit()\n",
    "model1.summary()"
   ]
  },
  {
   "cell_type": "markdown",
   "metadata": {},
   "source": [
    "### From the above summary we can observe that,\n",
    "#### (a) Adj $R^2$ value is 0.715\n",
    "#### (a) The coefficient value for nigtric_oxide is the highest i.e., -15.86\n",
    "#### (b) P value for age column is 0.635, which is greater than 0.05, It means the variable age is not statistically significant. Hence the column may be drop from the model."
   ]
  },
  {
   "cell_type": "markdown",
   "metadata": {},
   "source": [
    "### Model 2. Drop \"Age\""
   ]
  },
  {
   "cell_type": "code",
   "execution_count": 18,
   "metadata": {},
   "outputs": [],
   "source": [
    "formula_MLR2 ='avg_house_price~crime_rate+industrial_perc+close_to_charles_river+nitric_oxide+avg_num_rooms+dist_frm_employment_center+pupil_teacher_ratio+perc_low_income_group'"
   ]
  },
  {
   "cell_type": "code",
   "execution_count": 19,
   "metadata": {},
   "outputs": [
    {
     "data": {
      "text/html": [
       "<table class=\"simpletable\">\n",
       "<caption>OLS Regression Results</caption>\n",
       "<tr>\n",
       "  <th>Dep. Variable:</th>     <td>avg_house_price</td> <th>  R-squared:         </th> <td>   0.719</td> \n",
       "</tr>\n",
       "<tr>\n",
       "  <th>Model:</th>                   <td>OLS</td>       <th>  Adj. R-squared:    </th> <td>   0.715</td> \n",
       "</tr>\n",
       "<tr>\n",
       "  <th>Method:</th>             <td>Least Squares</td>  <th>  F-statistic:       </th> <td>   159.0</td> \n",
       "</tr>\n",
       "<tr>\n",
       "  <th>Date:</th>             <td>Thu, 13 Mar 2025</td> <th>  Prob (F-statistic):</th> <td>9.32e-132</td>\n",
       "</tr>\n",
       "<tr>\n",
       "  <th>Time:</th>                 <td>08:16:22</td>     <th>  Log-Likelihood:    </th> <td> -1519.0</td> \n",
       "</tr>\n",
       "<tr>\n",
       "  <th>No. Observations:</th>      <td>   506</td>      <th>  AIC:               </th> <td>   3056.</td> \n",
       "</tr>\n",
       "<tr>\n",
       "  <th>Df Residuals:</th>          <td>   497</td>      <th>  BIC:               </th> <td>   3094.</td> \n",
       "</tr>\n",
       "<tr>\n",
       "  <th>Df Model:</th>              <td>     8</td>      <th>                     </th>     <td> </td>    \n",
       "</tr>\n",
       "<tr>\n",
       "  <th>Covariance Type:</th>      <td>nonrobust</td>    <th>                     </th>     <td> </td>    \n",
       "</tr>\n",
       "</table>\n",
       "<table class=\"simpletable\">\n",
       "<tr>\n",
       "               <td></td>                 <th>coef</th>     <th>std err</th>      <th>t</th>      <th>P>|t|</th>  <th>[0.025</th>    <th>0.975]</th>  \n",
       "</tr>\n",
       "<tr>\n",
       "  <th>Intercept</th>                  <td>   34.7872</td> <td>    4.627</td> <td>    7.518</td> <td> 0.000</td> <td>   25.696</td> <td>   43.879</td>\n",
       "</tr>\n",
       "<tr>\n",
       "  <th>crime_rate</th>                 <td>   -0.0649</td> <td>    0.030</td> <td>   -2.175</td> <td> 0.030</td> <td>   -0.123</td> <td>   -0.006</td>\n",
       "</tr>\n",
       "<tr>\n",
       "  <th>industrial_perc</th>            <td>   -0.0567</td> <td>    0.057</td> <td>   -1.001</td> <td> 0.317</td> <td>   -0.168</td> <td>    0.055</td>\n",
       "</tr>\n",
       "<tr>\n",
       "  <th>close_to_charles_river</th>     <td>    3.1728</td> <td>    0.883</td> <td>    3.593</td> <td> 0.000</td> <td>    1.438</td> <td>    4.908</td>\n",
       "</tr>\n",
       "<tr>\n",
       "  <th>nitric_oxide</th>               <td>  -16.3014</td> <td>    3.577</td> <td>   -4.557</td> <td> 0.000</td> <td>  -23.330</td> <td>   -9.273</td>\n",
       "</tr>\n",
       "<tr>\n",
       "  <th>avg_num_rooms</th>              <td>    4.1465</td> <td>    0.410</td> <td>   10.109</td> <td> 0.000</td> <td>    3.341</td> <td>    4.952</td>\n",
       "</tr>\n",
       "<tr>\n",
       "  <th>dist_frm_employment_center</th> <td>   -1.2093</td> <td>    0.173</td> <td>   -7.007</td> <td> 0.000</td> <td>   -1.548</td> <td>   -0.870</td>\n",
       "</tr>\n",
       "<tr>\n",
       "  <th>pupil_teacher_ratio</th>        <td>   -0.9319</td> <td>    0.118</td> <td>   -7.896</td> <td> 0.000</td> <td>   -1.164</td> <td>   -0.700</td>\n",
       "</tr>\n",
       "<tr>\n",
       "  <th>perc_low_income_group</th>      <td>   -0.5403</td> <td>    0.049</td> <td>  -11.064</td> <td> 0.000</td> <td>   -0.636</td> <td>   -0.444</td>\n",
       "</tr>\n",
       "</table>\n",
       "<table class=\"simpletable\">\n",
       "<tr>\n",
       "  <th>Omnibus:</th>       <td>190.287</td> <th>  Durbin-Watson:     </th> <td>   1.035</td> \n",
       "</tr>\n",
       "<tr>\n",
       "  <th>Prob(Omnibus):</th> <td> 0.000</td>  <th>  Jarque-Bera (JB):  </th> <td> 906.399</td> \n",
       "</tr>\n",
       "<tr>\n",
       "  <th>Skew:</th>          <td> 1.608</td>  <th>  Prob(JB):          </th> <td>1.51e-197</td>\n",
       "</tr>\n",
       "<tr>\n",
       "  <th>Kurtosis:</th>      <td> 8.714</td>  <th>  Cond. No.          </th> <td>    643.</td> \n",
       "</tr>\n",
       "</table><br/><br/>Notes:<br/>[1] Standard Errors assume that the covariance matrix of the errors is correctly specified."
      ],
      "text/latex": [
       "\\begin{center}\n",
       "\\begin{tabular}{lclc}\n",
       "\\toprule\n",
       "\\textbf{Dep. Variable:}                & avg\\_house\\_price & \\textbf{  R-squared:         } &     0.719   \\\\\n",
       "\\textbf{Model:}                        &        OLS        & \\textbf{  Adj. R-squared:    } &     0.715   \\\\\n",
       "\\textbf{Method:}                       &   Least Squares   & \\textbf{  F-statistic:       } &     159.0   \\\\\n",
       "\\textbf{Date:}                         &  Thu, 13 Mar 2025 & \\textbf{  Prob (F-statistic):} & 9.32e-132   \\\\\n",
       "\\textbf{Time:}                         &      08:16:22     & \\textbf{  Log-Likelihood:    } &   -1519.0   \\\\\n",
       "\\textbf{No. Observations:}             &          506      & \\textbf{  AIC:               } &     3056.   \\\\\n",
       "\\textbf{Df Residuals:}                 &          497      & \\textbf{  BIC:               } &     3094.   \\\\\n",
       "\\textbf{Df Model:}                     &            8      & \\textbf{                     } &             \\\\\n",
       "\\textbf{Covariance Type:}              &     nonrobust     & \\textbf{                     } &             \\\\\n",
       "\\bottomrule\n",
       "\\end{tabular}\n",
       "\\begin{tabular}{lcccccc}\n",
       "                                       & \\textbf{coef} & \\textbf{std err} & \\textbf{t} & \\textbf{P$> |$t$|$} & \\textbf{[0.025} & \\textbf{0.975]}  \\\\\n",
       "\\midrule\n",
       "\\textbf{Intercept}                     &      34.7872  &        4.627     &     7.518  &         0.000        &       25.696    &       43.879     \\\\\n",
       "\\textbf{crime\\_rate}                   &      -0.0649  &        0.030     &    -2.175  &         0.030        &       -0.123    &       -0.006     \\\\\n",
       "\\textbf{industrial\\_perc}              &      -0.0567  &        0.057     &    -1.001  &         0.317        &       -0.168    &        0.055     \\\\\n",
       "\\textbf{close\\_to\\_charles\\_river}     &       3.1728  &        0.883     &     3.593  &         0.000        &        1.438    &        4.908     \\\\\n",
       "\\textbf{nitric\\_oxide}                 &     -16.3014  &        3.577     &    -4.557  &         0.000        &      -23.330    &       -9.273     \\\\\n",
       "\\textbf{avg\\_num\\_rooms}               &       4.1465  &        0.410     &    10.109  &         0.000        &        3.341    &        4.952     \\\\\n",
       "\\textbf{dist\\_frm\\_employment\\_center} &      -1.2093  &        0.173     &    -7.007  &         0.000        &       -1.548    &       -0.870     \\\\\n",
       "\\textbf{pupil\\_teacher\\_ratio}         &      -0.9319  &        0.118     &    -7.896  &         0.000        &       -1.164    &       -0.700     \\\\\n",
       "\\textbf{perc\\_low\\_income\\_group}      &      -0.5403  &        0.049     &   -11.064  &         0.000        &       -0.636    &       -0.444     \\\\\n",
       "\\bottomrule\n",
       "\\end{tabular}\n",
       "\\begin{tabular}{lclc}\n",
       "\\textbf{Omnibus:}       & 190.287 & \\textbf{  Durbin-Watson:     } &     1.035  \\\\\n",
       "\\textbf{Prob(Omnibus):} &   0.000 & \\textbf{  Jarque-Bera (JB):  } &   906.399  \\\\\n",
       "\\textbf{Skew:}          &   1.608 & \\textbf{  Prob(JB):          } & 1.51e-197  \\\\\n",
       "\\textbf{Kurtosis:}      &   8.714 & \\textbf{  Cond. No.          } &      643.  \\\\\n",
       "\\bottomrule\n",
       "\\end{tabular}\n",
       "%\\caption{OLS Regression Results}\n",
       "\\end{center}\n",
       "\n",
       "Notes: \\newline\n",
       " [1] Standard Errors assume that the covariance matrix of the errors is correctly specified."
      ],
      "text/plain": [
       "<class 'statsmodels.iolib.summary.Summary'>\n",
       "\"\"\"\n",
       "                            OLS Regression Results                            \n",
       "==============================================================================\n",
       "Dep. Variable:        avg_house_price   R-squared:                       0.719\n",
       "Model:                            OLS   Adj. R-squared:                  0.715\n",
       "Method:                 Least Squares   F-statistic:                     159.0\n",
       "Date:                Thu, 13 Mar 2025   Prob (F-statistic):          9.32e-132\n",
       "Time:                        08:16:22   Log-Likelihood:                -1519.0\n",
       "No. Observations:                 506   AIC:                             3056.\n",
       "Df Residuals:                     497   BIC:                             3094.\n",
       "Df Model:                           8                                         \n",
       "Covariance Type:            nonrobust                                         \n",
       "==============================================================================================\n",
       "                                 coef    std err          t      P>|t|      [0.025      0.975]\n",
       "----------------------------------------------------------------------------------------------\n",
       "Intercept                     34.7872      4.627      7.518      0.000      25.696      43.879\n",
       "crime_rate                    -0.0649      0.030     -2.175      0.030      -0.123      -0.006\n",
       "industrial_perc               -0.0567      0.057     -1.001      0.317      -0.168       0.055\n",
       "close_to_charles_river         3.1728      0.883      3.593      0.000       1.438       4.908\n",
       "nitric_oxide                 -16.3014      3.577     -4.557      0.000     -23.330      -9.273\n",
       "avg_num_rooms                  4.1465      0.410     10.109      0.000       3.341       4.952\n",
       "dist_frm_employment_center    -1.2093      0.173     -7.007      0.000      -1.548      -0.870\n",
       "pupil_teacher_ratio           -0.9319      0.118     -7.896      0.000      -1.164      -0.700\n",
       "perc_low_income_group         -0.5403      0.049    -11.064      0.000      -0.636      -0.444\n",
       "==============================================================================\n",
       "Omnibus:                      190.287   Durbin-Watson:                   1.035\n",
       "Prob(Omnibus):                  0.000   Jarque-Bera (JB):              906.399\n",
       "Skew:                           1.608   Prob(JB):                    1.51e-197\n",
       "Kurtosis:                       8.714   Cond. No.                         643.\n",
       "==============================================================================\n",
       "\n",
       "Notes:\n",
       "[1] Standard Errors assume that the covariance matrix of the errors is correctly specified.\n",
       "\"\"\""
      ]
     },
     "execution_count": 19,
     "metadata": {},
     "output_type": "execute_result"
    }
   ],
   "source": [
    "model2 = SM.ols(formula = formula_MLR2, data=bos).fit()\n",
    "model2.summary()"
   ]
  },
  {
   "cell_type": "markdown",
   "metadata": {},
   "source": [
    "### From the above summary we can observe that,\n",
    "#### (a) Adj $R^2$ value is 0.715\n",
    "#### (a) The coefficient value for nigtric_oxide has improved to -16.30.\n",
    "#### (b) P value for \"industrial_perc\" column is 0.317, which is greater than 0.05, It means the variable is not statistically significant. Hence the column may be drop from the model."
   ]
  },
  {
   "cell_type": "markdown",
   "metadata": {},
   "source": [
    "### Model 3  Drop \"industrial_perc\""
   ]
  },
  {
   "cell_type": "code",
   "execution_count": 20,
   "metadata": {},
   "outputs": [],
   "source": [
    "formula_MLR3 ='avg_house_price~crime_rate+close_to_charles_river+nitric_oxide+avg_num_rooms+dist_frm_employment_center+pupil_teacher_ratio+perc_low_income_group'"
   ]
  },
  {
   "cell_type": "code",
   "execution_count": 21,
   "metadata": {},
   "outputs": [
    {
     "data": {
      "text/html": [
       "<table class=\"simpletable\">\n",
       "<caption>OLS Regression Results</caption>\n",
       "<tr>\n",
       "  <th>Dep. Variable:</th>     <td>avg_house_price</td> <th>  R-squared:         </th> <td>   0.718</td> \n",
       "</tr>\n",
       "<tr>\n",
       "  <th>Model:</th>                   <td>OLS</td>       <th>  Adj. R-squared:    </th> <td>   0.715</td> \n",
       "</tr>\n",
       "<tr>\n",
       "  <th>Method:</th>             <td>Least Squares</td>  <th>  F-statistic:       </th> <td>   181.6</td> \n",
       "</tr>\n",
       "<tr>\n",
       "  <th>Date:</th>             <td>Thu, 13 Mar 2025</td> <th>  Prob (F-statistic):</th> <td>1.10e-132</td>\n",
       "</tr>\n",
       "<tr>\n",
       "  <th>Time:</th>                 <td>08:16:22</td>     <th>  Log-Likelihood:    </th> <td> -1519.5</td> \n",
       "</tr>\n",
       "<tr>\n",
       "  <th>No. Observations:</th>      <td>   506</td>      <th>  AIC:               </th> <td>   3055.</td> \n",
       "</tr>\n",
       "<tr>\n",
       "  <th>Df Residuals:</th>          <td>   498</td>      <th>  BIC:               </th> <td>   3089.</td> \n",
       "</tr>\n",
       "<tr>\n",
       "  <th>Df Model:</th>              <td>     7</td>      <th>                     </th>     <td> </td>    \n",
       "</tr>\n",
       "<tr>\n",
       "  <th>Covariance Type:</th>      <td>nonrobust</td>    <th>                     </th>     <td> </td>    \n",
       "</tr>\n",
       "</table>\n",
       "<table class=\"simpletable\">\n",
       "<tr>\n",
       "               <td></td>                 <th>coef</th>     <th>std err</th>      <th>t</th>      <th>P>|t|</th>  <th>[0.025</th>    <th>0.975]</th>  \n",
       "</tr>\n",
       "<tr>\n",
       "  <th>Intercept</th>                  <td>   35.1688</td> <td>    4.611</td> <td>    7.626</td> <td> 0.000</td> <td>   26.108</td> <td>   44.229</td>\n",
       "</tr>\n",
       "<tr>\n",
       "  <th>crime_rate</th>                 <td>   -0.0654</td> <td>    0.030</td> <td>   -2.195</td> <td> 0.029</td> <td>   -0.124</td> <td>   -0.007</td>\n",
       "</tr>\n",
       "<tr>\n",
       "  <th>close_to_charles_river</th>     <td>    3.1238</td> <td>    0.882</td> <td>    3.543</td> <td> 0.000</td> <td>    1.392</td> <td>    4.856</td>\n",
       "</tr>\n",
       "<tr>\n",
       "  <th>nitric_oxide</th>               <td>  -17.8133</td> <td>    3.243</td> <td>   -5.493</td> <td> 0.000</td> <td>  -24.184</td> <td>  -11.442</td>\n",
       "</tr>\n",
       "<tr>\n",
       "  <th>avg_num_rooms</th>              <td>    4.1943</td> <td>    0.407</td> <td>   10.295</td> <td> 0.000</td> <td>    3.394</td> <td>    4.995</td>\n",
       "</tr>\n",
       "<tr>\n",
       "  <th>dist_frm_employment_center</th> <td>   -1.1631</td> <td>    0.166</td> <td>   -6.994</td> <td> 0.000</td> <td>   -1.490</td> <td>   -0.836</td>\n",
       "</tr>\n",
       "<tr>\n",
       "  <th>pupil_teacher_ratio</th>        <td>   -0.9635</td> <td>    0.114</td> <td>   -8.472</td> <td> 0.000</td> <td>   -1.187</td> <td>   -0.740</td>\n",
       "</tr>\n",
       "<tr>\n",
       "  <th>perc_low_income_group</th>      <td>   -0.5452</td> <td>    0.049</td> <td>  -11.223</td> <td> 0.000</td> <td>   -0.641</td> <td>   -0.450</td>\n",
       "</tr>\n",
       "</table>\n",
       "<table class=\"simpletable\">\n",
       "<tr>\n",
       "  <th>Omnibus:</th>       <td>188.076</td> <th>  Durbin-Watson:     </th> <td>   1.037</td> \n",
       "</tr>\n",
       "<tr>\n",
       "  <th>Prob(Omnibus):</th> <td> 0.000</td>  <th>  Jarque-Bera (JB):  </th> <td> 879.882</td> \n",
       "</tr>\n",
       "<tr>\n",
       "  <th>Skew:</th>          <td> 1.594</td>  <th>  Prob(JB):          </th> <td>8.63e-192</td>\n",
       "</tr>\n",
       "<tr>\n",
       "  <th>Kurtosis:</th>      <td> 8.619</td>  <th>  Cond. No.          </th> <td>    564.</td> \n",
       "</tr>\n",
       "</table><br/><br/>Notes:<br/>[1] Standard Errors assume that the covariance matrix of the errors is correctly specified."
      ],
      "text/latex": [
       "\\begin{center}\n",
       "\\begin{tabular}{lclc}\n",
       "\\toprule\n",
       "\\textbf{Dep. Variable:}                & avg\\_house\\_price & \\textbf{  R-squared:         } &     0.718   \\\\\n",
       "\\textbf{Model:}                        &        OLS        & \\textbf{  Adj. R-squared:    } &     0.715   \\\\\n",
       "\\textbf{Method:}                       &   Least Squares   & \\textbf{  F-statistic:       } &     181.6   \\\\\n",
       "\\textbf{Date:}                         &  Thu, 13 Mar 2025 & \\textbf{  Prob (F-statistic):} & 1.10e-132   \\\\\n",
       "\\textbf{Time:}                         &      08:16:22     & \\textbf{  Log-Likelihood:    } &   -1519.5   \\\\\n",
       "\\textbf{No. Observations:}             &          506      & \\textbf{  AIC:               } &     3055.   \\\\\n",
       "\\textbf{Df Residuals:}                 &          498      & \\textbf{  BIC:               } &     3089.   \\\\\n",
       "\\textbf{Df Model:}                     &            7      & \\textbf{                     } &             \\\\\n",
       "\\textbf{Covariance Type:}              &     nonrobust     & \\textbf{                     } &             \\\\\n",
       "\\bottomrule\n",
       "\\end{tabular}\n",
       "\\begin{tabular}{lcccccc}\n",
       "                                       & \\textbf{coef} & \\textbf{std err} & \\textbf{t} & \\textbf{P$> |$t$|$} & \\textbf{[0.025} & \\textbf{0.975]}  \\\\\n",
       "\\midrule\n",
       "\\textbf{Intercept}                     &      35.1688  &        4.611     &     7.626  &         0.000        &       26.108    &       44.229     \\\\\n",
       "\\textbf{crime\\_rate}                   &      -0.0654  &        0.030     &    -2.195  &         0.029        &       -0.124    &       -0.007     \\\\\n",
       "\\textbf{close\\_to\\_charles\\_river}     &       3.1238  &        0.882     &     3.543  &         0.000        &        1.392    &        4.856     \\\\\n",
       "\\textbf{nitric\\_oxide}                 &     -17.8133  &        3.243     &    -5.493  &         0.000        &      -24.184    &      -11.442     \\\\\n",
       "\\textbf{avg\\_num\\_rooms}               &       4.1943  &        0.407     &    10.295  &         0.000        &        3.394    &        4.995     \\\\\n",
       "\\textbf{dist\\_frm\\_employment\\_center} &      -1.1631  &        0.166     &    -6.994  &         0.000        &       -1.490    &       -0.836     \\\\\n",
       "\\textbf{pupil\\_teacher\\_ratio}         &      -0.9635  &        0.114     &    -8.472  &         0.000        &       -1.187    &       -0.740     \\\\\n",
       "\\textbf{perc\\_low\\_income\\_group}      &      -0.5452  &        0.049     &   -11.223  &         0.000        &       -0.641    &       -0.450     \\\\\n",
       "\\bottomrule\n",
       "\\end{tabular}\n",
       "\\begin{tabular}{lclc}\n",
       "\\textbf{Omnibus:}       & 188.076 & \\textbf{  Durbin-Watson:     } &     1.037  \\\\\n",
       "\\textbf{Prob(Omnibus):} &   0.000 & \\textbf{  Jarque-Bera (JB):  } &   879.882  \\\\\n",
       "\\textbf{Skew:}          &   1.594 & \\textbf{  Prob(JB):          } & 8.63e-192  \\\\\n",
       "\\textbf{Kurtosis:}      &   8.619 & \\textbf{  Cond. No.          } &      564.  \\\\\n",
       "\\bottomrule\n",
       "\\end{tabular}\n",
       "%\\caption{OLS Regression Results}\n",
       "\\end{center}\n",
       "\n",
       "Notes: \\newline\n",
       " [1] Standard Errors assume that the covariance matrix of the errors is correctly specified."
      ],
      "text/plain": [
       "<class 'statsmodels.iolib.summary.Summary'>\n",
       "\"\"\"\n",
       "                            OLS Regression Results                            \n",
       "==============================================================================\n",
       "Dep. Variable:        avg_house_price   R-squared:                       0.718\n",
       "Model:                            OLS   Adj. R-squared:                  0.715\n",
       "Method:                 Least Squares   F-statistic:                     181.6\n",
       "Date:                Thu, 13 Mar 2025   Prob (F-statistic):          1.10e-132\n",
       "Time:                        08:16:22   Log-Likelihood:                -1519.5\n",
       "No. Observations:                 506   AIC:                             3055.\n",
       "Df Residuals:                     498   BIC:                             3089.\n",
       "Df Model:                           7                                         \n",
       "Covariance Type:            nonrobust                                         \n",
       "==============================================================================================\n",
       "                                 coef    std err          t      P>|t|      [0.025      0.975]\n",
       "----------------------------------------------------------------------------------------------\n",
       "Intercept                     35.1688      4.611      7.626      0.000      26.108      44.229\n",
       "crime_rate                    -0.0654      0.030     -2.195      0.029      -0.124      -0.007\n",
       "close_to_charles_river         3.1238      0.882      3.543      0.000       1.392       4.856\n",
       "nitric_oxide                 -17.8133      3.243     -5.493      0.000     -24.184     -11.442\n",
       "avg_num_rooms                  4.1943      0.407     10.295      0.000       3.394       4.995\n",
       "dist_frm_employment_center    -1.1631      0.166     -6.994      0.000      -1.490      -0.836\n",
       "pupil_teacher_ratio           -0.9635      0.114     -8.472      0.000      -1.187      -0.740\n",
       "perc_low_income_group         -0.5452      0.049    -11.223      0.000      -0.641      -0.450\n",
       "==============================================================================\n",
       "Omnibus:                      188.076   Durbin-Watson:                   1.037\n",
       "Prob(Omnibus):                  0.000   Jarque-Bera (JB):              879.882\n",
       "Skew:                           1.594   Prob(JB):                    8.63e-192\n",
       "Kurtosis:                       8.619   Cond. No.                         564.\n",
       "==============================================================================\n",
       "\n",
       "Notes:\n",
       "[1] Standard Errors assume that the covariance matrix of the errors is correctly specified.\n",
       "\"\"\""
      ]
     },
     "execution_count": 21,
     "metadata": {},
     "output_type": "execute_result"
    }
   ],
   "source": [
    "model3 = SM.ols(formula = formula_MLR3, data=bos).fit()\n",
    "model3.summary()"
   ]
  },
  {
   "cell_type": "markdown",
   "metadata": {},
   "source": [
    "### From the above summary we can observe that,\n",
    "#### (a) Adj $R^2$ value is 0.715\n",
    "#### (b) The coefficient value for \"nitric_oxide\" has again improved to -17.81.\n",
    "#### (c) The coefficient value for \"avg_num_rooms\" is 4.19\n",
    "#### (d) The coefficient value for \"close_to_charles_river\" is 3.128\n",
    "#### (e) P value for all independent variables are below 0.05. It means all variable from Model3 are statistically significant."
   ]
  },
  {
   "cell_type": "code",
   "execution_count": 22,
   "metadata": {},
   "outputs": [
    {
     "data": {
      "text/plain": [
       "0      30.948872\n",
       "1      25.833746\n",
       "2      31.824281\n",
       "3      29.689071\n",
       "4      29.008530\n",
       "         ...    \n",
       "501    24.222415\n",
       "502    22.783598\n",
       "503    28.388031\n",
       "504    26.905987\n",
       "505    22.807279\n",
       "Length: 506, dtype: float64"
      ]
     },
     "execution_count": 22,
     "metadata": {},
     "output_type": "execute_result"
    }
   ],
   "source": [
    "model_MLR_2_pred = model2.fittedvalues\n",
    "model_MLR_3_pred = model3.fittedvalues\n",
    "model_MLR_3_pred"
   ]
  },
  {
   "cell_type": "code",
   "execution_count": 23,
   "metadata": {},
   "outputs": [
    {
     "data": {
      "image/png": "[encoded data removed]",
      "text/plain": [
       "<Figure size 1080x360 with 2 Axes>"
      ]
     },
     "metadata": {
      "needs_background": "light"
     },
     "output_type": "display_data"
    }
   ],
   "source": [
    "f, (ax1, ax2) =  plt.subplots(nrows=1, ncols=2, figsize=(15,5), sharey=True)\n",
    "\n",
    "ax1.scatter(bos['avg_house_price'], model_MLR_2_pred)\n",
    "ax1.set_title('Model 2 predictions')\n",
    "\n",
    "ax2.scatter(bos['avg_house_price'],model_MLR_3_pred)\n",
    "ax2.set_title('Model 3 predictions')\n",
    "plt.show()"
   ]
  },
  {
   "cell_type": "code",
   "execution_count": 24,
   "metadata": {},
   "outputs": [
    {
     "data": {
      "image/png": "[encoded data removed]",
      "text/plain": [
       "<Figure size 1080x360 with 2 Axes>"
      ]
     },
     "metadata": {
      "needs_background": "light"
     },
     "output_type": "display_data"
    }
   ],
   "source": [
    "f,a =  plt.subplots(1,2, sharex=True, sharey=False, squeeze=False, figsize=(15,5))\n",
    "\n",
    "#Plotting the distplot and the boxplot of the residuals for model 3\n",
    "\n",
    "plot_0 = sns.histplot(model2.resid, ax=a[0][0], kde=True)\n",
    "a[0][0].set_title('Model 2: Distplot of the residuals')\n",
    "\n",
    "plot_1 = sns.histplot(model3.resid, ax=a[0][1], kde=True)\n",
    "a[0][1].set_title('Model 3: Distplot of the residuals')\n",
    "plt.show()"
   ]
  },
  {
   "cell_type": "markdown",
   "metadata": {},
   "source": [
    "___"
   ]
  },
  {
   "cell_type": "markdown",
   "metadata": {},
   "source": [
    "### With the above feature engineering method we can take 9 statistically significant variables to build model on Predictive approach"
   ]
  },
  {
   "cell_type": "markdown",
   "metadata": {},
   "source": [
    "## Predictive Approach"
   ]
  },
  {
   "cell_type": "code",
   "execution_count": 25,
   "metadata": {},
   "outputs": [],
   "source": [
    "# Import dependencies\n",
    "from sklearn.linear_model import LinearRegression\n",
    "from sklearn.model_selection import train_test_split\n",
    "from sklearn import metrics"
   ]
  },
  {
   "cell_type": "code",
   "execution_count": 26,
   "metadata": {},
   "outputs": [],
   "source": [
    "lr = LinearRegression()"
   ]
  },
  {
   "cell_type": "code",
   "execution_count": 27,
   "metadata": {},
   "outputs": [],
   "source": [
    "X = bos.drop(['avg_house_price','age','industrial_perc'],axis = 1)\n",
    "Y = bos.avg_house_price"
   ]
  },
  {
   "cell_type": "code",
   "execution_count": 28,
   "metadata": {},
   "outputs": [],
   "source": [
    "X_train, X_test, Y_train, Y_test = train_test_split(X, Y, test_size=0.30, random_state=1)"
   ]
  },
  {
   "cell_type": "code",
   "execution_count": 29,
   "metadata": {},
   "outputs": [
    {
     "data": {
      "text/html": [
       "<div>\n",
       "<style scoped>\n",
       "    .dataframe tbody tr th:only-of-type {\n",
       "        vertical-align: middle;\n",
       "    }\n",
       "\n",
       "    .dataframe tbody tr th {\n",
       "        vertical-align: top;\n",
       "    }\n",
       "\n",
       "    .dataframe thead th {\n",
       "        text-align: right;\n",
       "    }\n",
       "</style>\n",
       "<table border=\"1\" class=\"dataframe\">\n",
       "  <thead>\n",
       "    <tr style=\"text-align: right;\">\n",
       "      <th></th>\n",
       "      <th>crime_rate</th>\n",
       "      <th>close_to_charles_river</th>\n",
       "      <th>nitric_oxide</th>\n",
       "      <th>avg_num_rooms</th>\n",
       "      <th>dist_frm_employment_center</th>\n",
       "      <th>pupil_teacher_ratio</th>\n",
       "      <th>perc_low_income_group</th>\n",
       "    </tr>\n",
       "  </thead>\n",
       "  <tbody>\n",
       "    <tr>\n",
       "      <th>13</th>\n",
       "      <td>0.62976</td>\n",
       "      <td>0</td>\n",
       "      <td>0.538</td>\n",
       "      <td>5.949</td>\n",
       "      <td>4.7075</td>\n",
       "      <td>21.0</td>\n",
       "      <td>8.26</td>\n",
       "    </tr>\n",
       "    <tr>\n",
       "      <th>61</th>\n",
       "      <td>0.17171</td>\n",
       "      <td>0</td>\n",
       "      <td>0.453</td>\n",
       "      <td>5.966</td>\n",
       "      <td>6.8185</td>\n",
       "      <td>19.7</td>\n",
       "      <td>14.44</td>\n",
       "    </tr>\n",
       "    <tr>\n",
       "      <th>377</th>\n",
       "      <td>9.82349</td>\n",
       "      <td>0</td>\n",
       "      <td>0.671</td>\n",
       "      <td>6.794</td>\n",
       "      <td>1.3580</td>\n",
       "      <td>20.2</td>\n",
       "      <td>21.24</td>\n",
       "    </tr>\n",
       "    <tr>\n",
       "      <th>39</th>\n",
       "      <td>0.02763</td>\n",
       "      <td>0</td>\n",
       "      <td>0.428</td>\n",
       "      <td>6.595</td>\n",
       "      <td>5.4011</td>\n",
       "      <td>18.3</td>\n",
       "      <td>4.32</td>\n",
       "    </tr>\n",
       "    <tr>\n",
       "      <th>365</th>\n",
       "      <td>4.55587</td>\n",
       "      <td>0</td>\n",
       "      <td>0.718</td>\n",
       "      <td>3.561</td>\n",
       "      <td>1.6132</td>\n",
       "      <td>20.2</td>\n",
       "      <td>7.12</td>\n",
       "    </tr>\n",
       "  </tbody>\n",
       "</table>\n",
       "</div>"
      ],
      "text/plain": [
       "     crime_rate  close_to_charles_river  nitric_oxide  avg_num_rooms  \\\n",
       "13      0.62976                       0         0.538          5.949   \n",
       "61      0.17171                       0         0.453          5.966   \n",
       "377     9.82349                       0         0.671          6.794   \n",
       "39      0.02763                       0         0.428          6.595   \n",
       "365     4.55587                       0         0.718          3.561   \n",
       "\n",
       "     dist_frm_employment_center  pupil_teacher_ratio  perc_low_income_group  \n",
       "13                       4.7075                 21.0                   8.26  \n",
       "61                       6.8185                 19.7                  14.44  \n",
       "377                      1.3580                 20.2                  21.24  \n",
       "39                       5.4011                 18.3                   4.32  \n",
       "365                      1.6132                 20.2                   7.12  "
      ]
     },
     "execution_count": 29,
     "metadata": {},
     "output_type": "execute_result"
    }
   ],
   "source": [
    "X_train.head()"
   ]
  },
  {
   "cell_type": "code",
   "execution_count": 30,
   "metadata": {},
   "outputs": [
    {
     "data": {
      "text/html": [
       "<div>\n",
       "<style scoped>\n",
       "    .dataframe tbody tr th:only-of-type {\n",
       "        vertical-align: middle;\n",
       "    }\n",
       "\n",
       "    .dataframe tbody tr th {\n",
       "        vertical-align: top;\n",
       "    }\n",
       "\n",
       "    .dataframe thead th {\n",
       "        text-align: right;\n",
       "    }\n",
       "</style>\n",
       "<table border=\"1\" class=\"dataframe\">\n",
       "  <thead>\n",
       "    <tr style=\"text-align: right;\">\n",
       "      <th></th>\n",
       "      <th>crime_rate</th>\n",
       "      <th>close_to_charles_river</th>\n",
       "      <th>nitric_oxide</th>\n",
       "      <th>avg_num_rooms</th>\n",
       "      <th>dist_frm_employment_center</th>\n",
       "      <th>pupil_teacher_ratio</th>\n",
       "      <th>perc_low_income_group</th>\n",
       "    </tr>\n",
       "  </thead>\n",
       "  <tbody>\n",
       "    <tr>\n",
       "      <th>307</th>\n",
       "      <td>0.04932</td>\n",
       "      <td>0</td>\n",
       "      <td>0.472</td>\n",
       "      <td>6.849</td>\n",
       "      <td>3.1827</td>\n",
       "      <td>18.4</td>\n",
       "      <td>7.53</td>\n",
       "    </tr>\n",
       "    <tr>\n",
       "      <th>343</th>\n",
       "      <td>0.02543</td>\n",
       "      <td>0</td>\n",
       "      <td>0.484</td>\n",
       "      <td>6.696</td>\n",
       "      <td>5.7321</td>\n",
       "      <td>17.6</td>\n",
       "      <td>7.18</td>\n",
       "    </tr>\n",
       "    <tr>\n",
       "      <th>47</th>\n",
       "      <td>0.22927</td>\n",
       "      <td>0</td>\n",
       "      <td>0.448</td>\n",
       "      <td>6.030</td>\n",
       "      <td>5.6894</td>\n",
       "      <td>17.9</td>\n",
       "      <td>18.80</td>\n",
       "    </tr>\n",
       "    <tr>\n",
       "      <th>67</th>\n",
       "      <td>0.05789</td>\n",
       "      <td>0</td>\n",
       "      <td>0.409</td>\n",
       "      <td>5.878</td>\n",
       "      <td>6.4980</td>\n",
       "      <td>18.9</td>\n",
       "      <td>8.10</td>\n",
       "    </tr>\n",
       "    <tr>\n",
       "      <th>362</th>\n",
       "      <td>3.67822</td>\n",
       "      <td>0</td>\n",
       "      <td>0.770</td>\n",
       "      <td>5.362</td>\n",
       "      <td>2.1036</td>\n",
       "      <td>20.2</td>\n",
       "      <td>10.19</td>\n",
       "    </tr>\n",
       "  </tbody>\n",
       "</table>\n",
       "</div>"
      ],
      "text/plain": [
       "     crime_rate  close_to_charles_river  nitric_oxide  avg_num_rooms  \\\n",
       "307     0.04932                       0         0.472          6.849   \n",
       "343     0.02543                       0         0.484          6.696   \n",
       "47      0.22927                       0         0.448          6.030   \n",
       "67      0.05789                       0         0.409          5.878   \n",
       "362     3.67822                       0         0.770          5.362   \n",
       "\n",
       "     dist_frm_employment_center  pupil_teacher_ratio  perc_low_income_group  \n",
       "307                      3.1827                 18.4                   7.53  \n",
       "343                      5.7321                 17.6                   7.18  \n",
       "47                       5.6894                 17.9                  18.80  \n",
       "67                       6.4980                 18.9                   8.10  \n",
       "362                      2.1036                 20.2                  10.19  "
      ]
     },
     "execution_count": 30,
     "metadata": {},
     "output_type": "execute_result"
    }
   ],
   "source": [
    "X_test.head()"
   ]
  },
  {
   "cell_type": "code",
   "execution_count": 31,
   "metadata": {},
   "outputs": [
    {
     "data": {
      "text/plain": [
       "13     20.4\n",
       "61     16.0\n",
       "377    13.3\n",
       "39     30.8\n",
       "365    27.5\n",
       "Name: avg_house_price, dtype: float64"
      ]
     },
     "execution_count": 31,
     "metadata": {},
     "output_type": "execute_result"
    }
   ],
   "source": [
    "Y_train.head()"
   ]
  },
  {
   "cell_type": "code",
   "execution_count": 32,
   "metadata": {},
   "outputs": [
    {
     "data": {
      "text/plain": [
       "307    28.2\n",
       "343    23.9\n",
       "47     16.6\n",
       "67     22.0\n",
       "362    20.8\n",
       "Name: avg_house_price, dtype: float64"
      ]
     },
     "execution_count": 32,
     "metadata": {},
     "output_type": "execute_result"
    }
   ],
   "source": [
    "Y_test.head()"
   ]
  },
  {
   "cell_type": "code",
   "execution_count": 33,
   "metadata": {},
   "outputs": [
    {
     "data": {
      "text/plain": [
       "Index(['crime_rate', 'close_to_charles_river', 'nitric_oxide', 'avg_num_rooms',\n",
       "       'dist_frm_employment_center', 'pupil_teacher_ratio',\n",
       "       'perc_low_income_group'],\n",
       "      dtype='object')"
      ]
     },
     "execution_count": 33,
     "metadata": {},
     "output_type": "execute_result"
    }
   ],
   "source": [
    "X.columns"
   ]
  },
  {
   "cell_type": "code",
   "execution_count": 34,
   "metadata": {},
   "outputs": [],
   "source": [
    "model_1 = lr.fit(X_train[['crime_rate', 'close_to_charles_river', 'nitric_oxide', 'avg_num_rooms',\n",
    "       'dist_frm_employment_center', 'pupil_teacher_ratio', 'perc_low_income_group']], Y_train)"
   ]
  },
  {
   "cell_type": "code",
   "execution_count": 35,
   "metadata": {},
   "outputs": [],
   "source": [
    "#Training Data Prediction\n",
    "model_1_pred_train = model_1.predict(X_train[['crime_rate', 'close_to_charles_river', 'nitric_oxide', 'avg_num_rooms',\n",
    "       'dist_frm_employment_center', 'pupil_teacher_ratio', 'perc_low_income_group']])"
   ]
  },
  {
   "cell_type": "code",
   "execution_count": 36,
   "metadata": {},
   "outputs": [],
   "source": [
    "#Test Data Prediction\n",
    "model_1_pred_test = model_1.predict(X_test[['crime_rate', 'close_to_charles_river', 'nitric_oxide', 'avg_num_rooms',\n",
    "       'dist_frm_employment_center', 'pupil_teacher_ratio', 'perc_low_income_group']])"
   ]
  },
  {
   "cell_type": "code",
   "execution_count": 37,
   "metadata": {},
   "outputs": [
    {
     "name": "stdout",
     "output_type": "stream",
     "text": [
      "Training Data RMSE of model_1: 5.028039513595206\n"
     ]
    }
   ],
   "source": [
    "print('Training Data RMSE of model_1:',metrics.mean_squared_error(Y_train,model_1_pred_train,squared=False))\n"
   ]
  },
  {
   "cell_type": "code",
   "execution_count": 38,
   "metadata": {},
   "outputs": [
    {
     "name": "stdout",
     "output_type": "stream",
     "text": [
      "Test Data RMSE of model_1: 4.6316421345004635\n"
     ]
    }
   ],
   "source": [
    "print('Test Data RMSE of model_1:',metrics.mean_squared_error(Y_test,model_1_pred_test,squared=False))"
   ]
  },
  {
   "cell_type": "code",
   "execution_count": 39,
   "metadata": {},
   "outputs": [
    {
     "data": {
      "text/plain": [
       "<AxesSubplot:xlabel='avg_house_price'>"
      ]
     },
     "execution_count": 39,
     "metadata": {},
     "output_type": "execute_result"
    },
    {
     "data": {
      "image/png": "[encoded data removed]",
      "text/plain": [
       "<Figure size 360x360 with 1 Axes>"
      ]
     },
     "metadata": {
      "needs_background": "light"
     },
     "output_type": "display_data"
    }
   ],
   "source": [
    "sns.scatterplot(x = Y_train, y = model_1_pred_train)"
   ]
  },
  {
   "cell_type": "code",
   "execution_count": 40,
   "metadata": {},
   "outputs": [
    {
     "data": {
      "text/plain": [
       "<AxesSubplot:xlabel='avg_house_price'>"
      ]
     },
     "execution_count": 40,
     "metadata": {},
     "output_type": "execute_result"
    },
    {
     "data": {
      "image/png": "[encoded data removed]",
      "text/plain": [
       "<Figure size 360x360 with 1 Axes>"
      ]
     },
     "metadata": {
      "needs_background": "light"
     },
     "output_type": "display_data"
    }
   ],
   "source": [
    "sns.scatterplot(x = Y_test, y = model_1_pred_test)"
   ]
  },
  {
   "cell_type": "code",
   "execution_count": 41,
   "metadata": {},
   "outputs": [
    {
     "name": "stdout",
     "output_type": "stream",
     "text": [
      "Adjusted R-squared using sklearn: 0.7545682658770744\n"
     ]
    }
   ],
   "source": [
    "# Step 9: Calculate R-squared and Adjusted R-squared manually\n",
    "r2 = model_1.score(X_test, Y_test)\n",
    "\n",
    "# Calculate Adjusted R-squared\n",
    "n = X_test.shape[0]  # Number of data points\n",
    "p = X_test.shape[1]  # Number of features (predictors)\n",
    "adj_r2 = 1 - (1 - r2) * (n - 1) / (n - p - 1)\n",
    "\n",
    "print(\"Adjusted R-squared using sklearn:\", adj_r2)"
   ]
  }
 ],
 "metadata": {
  "kernelspec": {
   "display_name": "Python [conda env:base] *",
   "language": "python",
   "name": "conda-base-py"
  },
  "language_info": {
   "codemirror_mode": {
    "name": "ipython",
    "version": 3
   },
   "file_extension": ".py",
   "mimetype": "text/x-python",
   "name": "python",
   "nbconvert_exporter": "python",
   "pygments_lexer": "ipython3",
   "version": "3.12.7"
  }
 },
 "nbformat": 4,
 "nbformat_minor": 4
}
